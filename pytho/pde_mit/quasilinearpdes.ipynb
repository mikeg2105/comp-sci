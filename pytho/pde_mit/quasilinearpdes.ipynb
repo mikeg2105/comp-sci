{
 "cells": [
  {
   "cell_type": "code",
   "execution_count": null,
   "id": "6e020cdd",
   "metadata": {},
   "outputs": [],
   "source": [
    "https://ocw.mit.edu/courses/18-303-linear-partial-differential-equations-fall-2006/ff36bf5af0d4dcefd6f463899bd35675_probquasisolns.pdf\n",
    "\n",
    "https://ocw.mit.edu/courses/18-303-linear-partial-differential-equations-fall-2006/3ceee4cc6f771d00091af3536468e691_probquasi.pdf    \n",
    "    \n",
    "    \n",
    "https://ocw.mit.edu/courses/18-303-linear-partial-differential-equations-fall-2006/resources/probquasi-1/"
   ]
  },
  {
   "cell_type": "markdown",
   "id": "56eee70a",
   "metadata": {},
   "source": []
  },
  {
   "cell_type": "code",
   "execution_count": null,
   "id": "19a47c14",
   "metadata": {},
   "outputs": [],
   "source": []
  },
  {
   "cell_type": "code",
   "execution_count": 14,
   "id": "9ec179bc",
   "metadata": {},
   "outputs": [],
   "source": [
    "import math\n",
    "import numpy as np\n",
    "import matplotlib.pyplot as plt\n",
    "from matplotlib import cm\n",
    "import matplotlib.animation as animation\n",
    "from IPython.display import HTML\n",
    "\n",
    "\n",
    "\n",
    "import matplotlib.animation as animation\n",
    "from IPython.display import HTML\n",
    "\n",
    " \n",
    "%matplotlib inline\n",
    "\n",
    "#useful for 3d viewer\n",
    "#%matplotlib osx"
   ]
  },
  {
   "cell_type": "code",
   "execution_count": 2,
   "id": "036b1c01",
   "metadata": {},
   "outputs": [],
   "source": [
    "#function ff=f3(x)\n",
    "    #ff = math.pow(math.sin(math.pi*x),2)*(x>=1&x<=2) - math.pow(math.sin(math.pi*x),2)*(x>=-2&x<=-1)\n",
    "def f3(x):\n",
    "    ff=[]\n",
    "    for xi in x:\n",
    "        if(xi>=1 and xi<=2):\n",
    "            ff.append(math.pow(math.sin(math.pi*xi),2))\n",
    "        elif(xi>=-2 and xi<=-1):\n",
    "            ff.append(- math.pow(math.sin(math.pi*x),2))\n",
    "        else:\n",
    "            ff.append(0)\n",
    "    return ff"
   ]
  },
  {
   "cell_type": "code",
   "execution_count": 3,
   "id": "ce739435",
   "metadata": {},
   "outputs": [],
   "source": [
    "#function o=solfn(x,u)\n",
    "#    o=sin(x-2*u)-2*u;\n",
    "def solfn(x,u):\n",
    "    i=0\n",
    "    o=[]\n",
    "    for xi in x:\n",
    "        ui=u[i]\n",
    "        oi=math.sin(xi-2.*ui)-2.*ui\n",
    "        o.append(oi)\n",
    "        i=i+1\n",
    "    return o"
   ]
  },
  {
   "cell_type": "code",
   "execution_count": 6,
   "id": "4f581162",
   "metadata": {},
   "outputs": [],
   "source": [
    "#function xx=x3(t,s)\n",
    "#    xx=2/3*f3(s).*(1-exp(-3*t)) + s;\n",
    "\n",
    "def x3(t,s):\n",
    "    i=0\n",
    "    xx=[]\n",
    "    f3a=f3(s)\n",
    "    for ti in t:\n",
    "        si=s[i]\n",
    "        f3i=f3a[i]\n",
    "        xxi=(2./3.)*f3i*(1-math.exp(-3.0*ti))+si\n",
    "        xx.append(xxi)\n",
    "        i=i+1\n",
    "    return xx"
   ]
  },
  {
   "cell_type": "code",
   "execution_count": 4,
   "id": "58b9d835",
   "metadata": {},
   "outputs": [],
   "source": [
    "\n",
    "#function ff=f3(s)\n",
    "#    ff=2*sin(s);\n",
    "\n",
    "def f3(s):\n",
    "    i=0\n",
    "    ff=[]\n",
    "    for si in s:\n",
    "        ffi=2*math.sin(si)\n",
    "        ff.append(ffi)\n",
    "        i=i+1\n",
    "    return ff"
   ]
  },
  {
   "cell_type": "code",
   "execution_count": 7,
   "id": "19148478",
   "metadata": {},
   "outputs": [],
   "source": [
    "#function ff=f2(s)\n",
    "#    ff=sin(s).*(s>0 & <pi);\n",
    "def f2(s):\n",
    "    i=0\n",
    "    ff=[]\n",
    "    for si in s:\n",
    "        ffi=2*math.sin(si)*(si>0 and si<math.pi)\n",
    "        ff.append(ffi)\n",
    "        i=i+1\n",
    "    return ff\n"
   ]
  },
  {
   "cell_type": "code",
   "execution_count": 8,
   "id": "e8c4cdcb",
   "metadata": {},
   "outputs": [],
   "source": [
    "#function ff=f1(s)\n",
    "#    ff=1/4.*(abs(s)>=2) + (1-3/8*abs(s)).*(abs(s)<2);\n",
    "def f1(s):\n",
    "    i=0\n",
    "    ff=[]\n",
    "    for si in s:\n",
    "        ffi=(1./4.)*(math.abs(si)>=2) +(1.0-(3.0/8.0)*math.abs(si))*(math.abs(si)<2.0)\n",
    "        ff.append(ffi)\n",
    "        i=i+1\n",
    "    return ff\n",
    "\n"
   ]
  },
  {
   "cell_type": "code",
   "execution_count": 15,
   "id": "451bf4c7",
   "metadata": {},
   "outputs": [],
   "source": [
    "#function l=x1(t,s)\n",
    "#    l=(t/2+s).*(abs(s)>2) + ((3/4*abs(s)-1).*t+s).*(abs(s)<=2);\n",
    "def x1(t,s):\n",
    "    ll=[]\n",
    "    for ti in t:\n",
    "        lla=[]\n",
    "        for si in s:\n",
    "            lli=((ti/2.)+si)*(abs(si)>2.0)+((((3./4.)*math.abs(si)-1.0)-1.)*ti+si)*(math.abs(si)<=2.0)\n",
    "            lla.append(lli)\n",
    "        ll.append(lla)\n",
    "    return ll"
   ]
  },
  {
   "cell_type": "code",
   "execution_count": 17,
   "id": "163f97a0",
   "metadata": {},
   "outputs": [
    {
     "ename": "AttributeError",
     "evalue": "module 'math' has no attribute 'abs'",
     "output_type": "error",
     "traceback": [
      "\u001b[1;31m---------------------------------------------------------------------------\u001b[0m",
      "\u001b[1;31mAttributeError\u001b[0m                            Traceback (most recent call last)",
      "Cell \u001b[1;32mIn[17], line 4\u001b[0m\n\u001b[0;32m      2\u001b[0m n\u001b[38;5;241m=\u001b[39mnp\u001b[38;5;241m.\u001b[39mlinspace(\u001b[38;5;241m-\u001b[39m\u001b[38;5;241m11.0\u001b[39m,\u001b[38;5;241m12.0\u001b[39m,\u001b[38;5;241m24\u001b[39m)\n\u001b[0;32m      3\u001b[0m t\u001b[38;5;241m=\u001b[39m[\u001b[38;5;241m0\u001b[39m,\u001b[38;5;241m4\u001b[39m\u001b[38;5;241m/\u001b[39m\u001b[38;5;241m3\u001b[39m]\n\u001b[1;32m----> 4\u001b[0m x1a\u001b[38;5;241m=\u001b[39mx1(t,n)\n",
      "Cell \u001b[1;32mIn[15], line 8\u001b[0m, in \u001b[0;36mx1\u001b[1;34m(t, s)\u001b[0m\n\u001b[0;32m      6\u001b[0m lla\u001b[38;5;241m=\u001b[39m[]\n\u001b[0;32m      7\u001b[0m \u001b[38;5;28;01mfor\u001b[39;00m si \u001b[38;5;129;01min\u001b[39;00m s:\n\u001b[1;32m----> 8\u001b[0m     lli\u001b[38;5;241m=\u001b[39m((ti\u001b[38;5;241m/\u001b[39m\u001b[38;5;241m2.\u001b[39m)\u001b[38;5;241m+\u001b[39msi)\u001b[38;5;241m*\u001b[39m(math\u001b[38;5;241m.\u001b[39mabs(si)\u001b[38;5;241m>\u001b[39m\u001b[38;5;241m2.0\u001b[39m)\u001b[38;5;241m+\u001b[39m((((\u001b[38;5;241m3.\u001b[39m\u001b[38;5;241m/\u001b[39m\u001b[38;5;241m4.\u001b[39m)\u001b[38;5;241m*\u001b[39mmath\u001b[38;5;241m.\u001b[39mabs(si)\u001b[38;5;241m-\u001b[39m\u001b[38;5;241m1.0\u001b[39m)\u001b[38;5;241m-\u001b[39m\u001b[38;5;241m1.\u001b[39m)\u001b[38;5;241m*\u001b[39mti\u001b[38;5;241m+\u001b[39msi)\u001b[38;5;241m*\u001b[39m(math\u001b[38;5;241m.\u001b[39mabs(si)\u001b[38;5;241m<\u001b[39m\u001b[38;5;241m=\u001b[39m\u001b[38;5;241m2.0\u001b[39m)\n\u001b[0;32m      9\u001b[0m     lla\u001b[38;5;241m.\u001b[39mappend(lli)\n\u001b[0;32m     10\u001b[0m ll\u001b[38;5;241m.\u001b[39mappend(lla)\n",
      "\u001b[1;31mAttributeError\u001b[0m: module 'math' has no attribute 'abs'"
     ]
    }
   ],
   "source": [
    "\n",
    "#x=-3:0.05:3        \n",
    "n=np.linspace(-11.0,12.0,24)\n",
    "t=[0,4/3]\n",
    "x1a=x1(t,n)\n",
    "#x2a=x1            \n",
    "              \n",
    "              \n",
    "#t=[0,4/3];\n",
    "#figure(1);\n",
    "#for n=-11:12\n",
    "#    plot(x1(t,n/4),t,'k'); hold on;\n",
    "#end\n",
    "#hdl=plot(x1(t,-2),t,'k',x1(t,0),t,'k',x1(t,2),t,'k'); hold on;            \n",
    "\n",
    "#fig, ax = plt.subplots()\n",
    "#ax.scatter(delta1[:-1], delta1[1:], alpha=0.5)\n",
    "\n",
    "#plt.show()"
   ]
  },
  {
   "cell_type": "code",
   "execution_count": 10,
   "id": "e29b2de9",
   "metadata": {},
   "outputs": [],
   "source": [
    "t=[0,4/3]"
   ]
  },
  {
   "cell_type": "code",
   "execution_count": 11,
   "id": "55ecd23c",
   "metadata": {},
   "outputs": [
    {
     "name": "stdout",
     "output_type": "stream",
     "text": [
      "0\n"
     ]
    }
   ],
   "source": [
    "print(t[0])"
   ]
  },
  {
   "cell_type": "code",
   "execution_count": null,
   "id": "a5878442",
   "metadata": {},
   "outputs": [],
   "source": []
  }
 ],
 "metadata": {
  "kernelspec": {
   "display_name": "Python 3 (ipykernel)",
   "language": "python",
   "name": "python3"
  },
  "language_info": {
   "codemirror_mode": {
    "name": "ipython",
    "version": 3
   },
   "file_extension": ".py",
   "mimetype": "text/x-python",
   "name": "python",
   "nbconvert_exporter": "python",
   "pygments_lexer": "ipython3",
   "version": "3.11.4"
  }
 },
 "nbformat": 4,
 "nbformat_minor": 5
}
