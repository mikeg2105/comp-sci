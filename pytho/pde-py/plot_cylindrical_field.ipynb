{
  "cells": [
    {
      "cell_type": "markdown",
      "metadata": {},
      "source": [
        "\n# Plotting a scalar field in cylindrical coordinates\n\nThis example shows how to initialize and visualize the scalar field \n$u = \\sqrt{z} \\, \\exp(-r^2)$ in cylindrical coordinates.\n"
      ]
    },
    {
      "cell_type": "code",
      "execution_count": null,
      "metadata": {
        "collapsed": false
      },
      "outputs": [],
      "source": [
        "from pde import CylindricalSymGrid, ScalarField\n\ngrid = CylindricalSymGrid(radius=3, bounds_z=[0, 4], shape=16)\nfield = ScalarField.from_expression(grid, \"sqrt(z) * exp(-r**2)\")\nfield.plot(title=\"Scalar field in cylindrical coordinates\")"
      ]
    }
  ],
  "metadata": {
    "kernelspec": {
      "display_name": "Python 3",
      "language": "python",
      "name": "python3"
    },
    "language_info": {
      "codemirror_mode": {
        "name": "ipython",
        "version": 3
      },
      "file_extension": ".py",
      "mimetype": "text/x-python",
      "name": "python",
      "nbconvert_exporter": "python",
      "pygments_lexer": "ipython3",
      "version": "3.8.17"
    }
  },
  "nbformat": 4,
  "nbformat_minor": 0
}