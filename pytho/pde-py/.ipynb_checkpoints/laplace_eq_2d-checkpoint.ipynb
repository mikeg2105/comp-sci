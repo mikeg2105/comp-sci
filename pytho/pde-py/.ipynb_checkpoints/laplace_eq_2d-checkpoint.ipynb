{
 "cells": [
  {
   "cell_type": "markdown",
   "metadata": {},
   "source": [
    "\n",
    "# Solving Laplace's equation in 2d\n",
    "\n",
    "This example shows how to solve a 2d Laplace equation with spatially varying\n",
    "boundary conditions.\n"
   ]
  },
  {
   "cell_type": "code",
   "execution_count": null,
   "metadata": {},
   "outputs": [],
   "source": [
    "import numpy as np\n",
    "\n",
    "from pde import CartesianGrid, solve_laplace_equation\n",
    "\n",
    "grid = CartesianGrid([[0, 2 * np.pi]] * 2, 64)\n",
    "bcs = [{\"value\": \"sin(y)\"}, {\"value\": \"sin(x)\"}]\n",
    "\n",
    "res = solve_laplace_equation(grid, bcs)\n",
    "res.plot()"
   ]
  }
 ],
 "metadata": {
  "kernelspec": {
   "display_name": "Python 3 (ipykernel)",
   "language": "python",
   "name": "python3"
  },
  "language_info": {
   "codemirror_mode": {
    "name": "ipython",
    "version": 3
   },
   "file_extension": ".py",
   "mimetype": "text/x-python",
   "name": "python",
   "nbconvert_exporter": "python",
   "pygments_lexer": "ipython3",
   "version": "3.11.4"
  }
 },
 "nbformat": 4,
 "nbformat_minor": 1
}
