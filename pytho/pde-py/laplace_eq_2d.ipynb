{
  "cells": [
    {
      "cell_type": "markdown",
      "metadata": {},
      "source": [
        "\n# Solving Laplace's equation in 2d\n\nThis example shows how to solve a 2d Laplace equation with spatially varying\nboundary conditions.\n"
      ]
    },
    {
      "cell_type": "code",
      "execution_count": null,
      "metadata": {
        "collapsed": false
      },
      "outputs": [],
      "source": [
        "import numpy as np\n\nfrom pde import CartesianGrid, solve_laplace_equation\n\ngrid = CartesianGrid([[0, 2 * np.pi]] * 2, 64)\nbcs = [{\"value\": \"sin(y)\"}, {\"value\": \"sin(x)\"}]\n\nres = solve_laplace_equation(grid, bcs)\nres.plot()"
      ]
    }
  ],
  "metadata": {
    "kernelspec": {
      "display_name": "Python 3",
      "language": "python",
      "name": "python3"
    },
    "language_info": {
      "codemirror_mode": {
        "name": "ipython",
        "version": 3
      },
      "file_extension": ".py",
      "mimetype": "text/x-python",
      "name": "python",
      "nbconvert_exporter": "python",
      "pygments_lexer": "ipython3",
      "version": "3.8.17"
    }
  },
  "nbformat": 4,
  "nbformat_minor": 0
}