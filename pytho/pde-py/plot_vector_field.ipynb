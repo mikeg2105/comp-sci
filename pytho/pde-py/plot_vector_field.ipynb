{
  "cells": [
    {
      "cell_type": "markdown",
      "metadata": {},
      "source": [
        "\n# Plotting a vector field\n\nThis example shows how to initialize and visualize the vector field \n$\\boldsymbol u = \\bigl(\\sin(x), \\cos(x)\\bigr)$.\n"
      ]
    },
    {
      "cell_type": "code",
      "execution_count": null,
      "metadata": {
        "collapsed": false
      },
      "outputs": [],
      "source": [
        "from pde import CartesianGrid, VectorField\n\ngrid = CartesianGrid([[-2, 2], [-2, 2]], 32)\nfield = VectorField.from_expression(grid, [\"sin(x)\", \"cos(x)\"])\nfield.plot(method=\"streamplot\", title=\"Stream plot\")"
      ]
    }
  ],
  "metadata": {
    "kernelspec": {
      "display_name": "Python 3",
      "language": "python",
      "name": "python3"
    },
    "language_info": {
      "codemirror_mode": {
        "name": "ipython",
        "version": 3
      },
      "file_extension": ".py",
      "mimetype": "text/x-python",
      "name": "python",
      "nbconvert_exporter": "python",
      "pygments_lexer": "ipython3",
      "version": "3.8.17"
    }
  },
  "nbformat": 4,
  "nbformat_minor": 0
}