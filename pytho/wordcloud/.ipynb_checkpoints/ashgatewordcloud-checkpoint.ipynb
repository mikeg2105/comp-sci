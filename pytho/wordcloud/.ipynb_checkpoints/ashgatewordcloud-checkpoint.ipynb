{
 "cells": [
  {
   "cell_type": "markdown",
   "id": "2e262bf4-e7c7-434e-b10a-c68a33a3d49a",
   "metadata": {},
   "source": [
    "# Generate Wordcloud for Ashgate "
   ]
  },
  {
   "cell_type": "markdown",
   "id": "41cb5fc6-3b41-4234-96f1-0108c0466211",
   "metadata": {},
   "source": [
    "## Notes for guidance\n",
    "\n",
    "This python 3.0 script requires word\n",
    "cloud which can be installed using\n",
    "` conda install conda-forge::wordcloud`\n",
    "or\n",
    "` pip install wordcloud`\n"
   ]
  },
  {
   "cell_type": "code",
   "execution_count": 13,
   "id": "99108238-1247-41e4-8eda-b4c9b9627257",
   "metadata": {},
   "outputs": [],
   "source": [
    "# Set up required packages\n",
    "import pandas as pd\n",
    "from wordcloud import WordCloud\n",
    "import matplotlib.pyplot as plt\n",
    "\n",
    "%matplotlib tk"
   ]
  },
  {
   "cell_type": "code",
   "execution_count": 16,
   "id": "f258f85a-4f4c-4fe5-a42b-1b4f981a1816",
   "metadata": {},
   "outputs": [],
   "source": [
    "# change the filename below\n",
    "wordcloudfilename='Wordcloud-compliments.csv'"
   ]
  },
  {
   "cell_type": "code",
   "execution_count": 17,
   "id": "7120d95b-ee14-4c1a-9a48-570c2ff90ea6",
   "metadata": {},
   "outputs": [],
   "source": [
    "#load the data\n",
    "# Load the CSV file\n",
    "df = pd.read_csv(wordcloudfilename,header=None)\n",
    "# Add column labels\n",
    "df.columns = ['word', 'occurrences']"
   ]
  },
  {
   "cell_type": "code",
   "execution_count": 18,
   "id": "642703fc-2275-4e03-af74-4337d896d76f",
   "metadata": {},
   "outputs": [
    {
     "name": "stdout",
     "output_type": "stream",
     "text": [
      "            word  occurrences\n",
      "0         Caring           79\n",
      "1      Dedicated           10\n",
      "2       Friendly           11\n",
      "3   Professional           10\n",
      "4    Supportive            50\n",
      "..           ...          ...\n",
      "89       Honesty            1\n",
      "90       Patient            1\n",
      "91       Awesome            1\n",
      "92          Warm            1\n",
      "93        Superb            2\n",
      "\n",
      "[94 rows x 2 columns]\n"
     ]
    }
   ],
   "source": [
    "print(df)"
   ]
  },
  {
   "cell_type": "code",
   "execution_count": 19,
   "id": "437a24fa-283a-4d14-91b7-072743fe878f",
   "metadata": {},
   "outputs": [],
   "source": [
    "# Ensure the CSV has columns 'word' and 'occurrences'\n",
    "words_dict = dict(zip(df['word'], df['occurrences']))\n",
    "\n",
    "\n",
    "\n"
   ]
  },
  {
   "cell_type": "code",
   "execution_count": 20,
   "id": "c6cab122-3e9d-41ff-822c-5d940efe874f",
   "metadata": {},
   "outputs": [],
   "source": [
    "# Generate the word cloud\n",
    "wordcloud = WordCloud(width=800, height=400, background_color='white').generate_from_frequencies(words_dict)"
   ]
  },
  {
   "cell_type": "code",
   "execution_count": 21,
   "id": "7a529743-79ab-4e97-8b95-45b6ff3d1826",
   "metadata": {},
   "outputs": [],
   "source": [
    "# Display the word cloud\n",
    "plt.figure(figsize=(10, 5))\n",
    "plt.imshow(wordcloud, interpolation='bilinear')\n",
    "plt.axis('off')\n",
    "plt.show()"
   ]
  },
  {
   "cell_type": "code",
   "execution_count": null,
   "id": "4f010a7d-325e-4b53-ab72-868b09a81cde",
   "metadata": {},
   "outputs": [],
   "source": []
  }
 ],
 "metadata": {
  "kernelspec": {
   "display_name": "Python 3 (ipykernel)",
   "language": "python",
   "name": "python3"
  },
  "language_info": {
   "codemirror_mode": {
    "name": "ipython",
    "version": 3
   },
   "file_extension": ".py",
   "mimetype": "text/x-python",
   "name": "python",
   "nbconvert_exporter": "python",
   "pygments_lexer": "ipython3",
   "version": "3.11.7"
  }
 },
 "nbformat": 4,
 "nbformat_minor": 5
}
