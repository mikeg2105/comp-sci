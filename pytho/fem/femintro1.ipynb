{
 "cells": [
  {
   "cell_type": "markdown",
   "id": "f4a423f4-ae2e-4073-9c63-c32597a35606",
   "metadata": {},
   "source": [
    "\n",
    "https://polymerfem.com/full-finite-element-solver-in-100-lines-of-python/\n",
    "\n",
    "Consider a strip with a length of 50 mm, a width of 10 mm, and thickness of 1 mm. This strip is deformed in plane-strain tension in the vertical (2-dir) using a force of 200 N. The bottom of the strip is held fixed.\r\n",
    "\r\n",
    "The elastic properties of the strip material are E=100 MPa, and ν=0.48.\r\n",
    "\r\n",
    "The goal is to determine the displacement field after the load had been appliesee also:\n",
    "https://en.wikiversity.org/wiki/Finite_elements/Axial_bar_finite_element_solution\n",
    "\n",
    "https://en.wikipedia.org/wiki/Poisson%27s_ratio\n",
    "\n",
    "derive the stress matrix from\n",
    "https://sites.engineering.ucsb.edu/~hpscicom/projects/stress/introge.pdf\n",
    "\n",
    "https://en.wikipedia.org/wiki/Stiffness_matrix#:~:text=The%20stiffness%20matrix%20for%20the%20Poisson%20problem,-For%20simplicity%2C%20we&text=The%20stiffness%20matrix%20is%20symmetric,always%20has%20a%20unique%20solution.\n",
    "\n",
    "d.\r\n",
    "\r\n"
   ]
  },
  {
   "cell_type": "code",
   "execution_count": 1,
   "id": "ffb3a256-fc6e-4f2a-9f7e-f6c264a16a18",
   "metadata": {},
   "outputs": [],
   "source": [
    "#!/usr/bin/env python\n",
    "# This program is free software; you can redistribute it and/or modify\n",
    "# it under the terms of the GNU General Public License as published by\n",
    "# the Free Software Foundation; either version 2 of the License, or\n",
    "# (at your option) any later version.\n",
    "#\n",
    "# This program is distributed in the hope that it will be useful,\n",
    "# but WITHOUT ANY WARRANTY; without even the implied warranty of\n",
    "# MERCHANTABILITY or FITNESS FOR A PARTICULAR PURPOSE.  See the\n",
    "# GNU General Public License for more details.\n",
    "#\n",
    "# Copyright 2022 Jorgen Bergstrom\n",
    "# See also code from http://compmech.lab.asu.edu/codes.php\n",
    "import numpy as np\n",
    "import math\n",
    "from matplotlib import pyplot as plt"
   ]
  },
  {
   "cell_type": "code",
   "execution_count": 2,
   "id": "b1338603-669a-49c9-80b3-cafa72f2932b",
   "metadata": {},
   "outputs": [],
   "source": [
    "def shape(xi):\n",
    "\tx,y = tuple(xi)\n",
    "\tN = [(1.0-x)*(1.0-y), (1.0+x)*(1.0-y), (1.0+x)*(1.0+y), (1.0-x)*(1.0+y)]\n",
    "\treturn 0.25*np.array(N)\n",
    "def gradshape(xi):\n",
    "\tx,y = tuple(xi)\n",
    "\tdN = [[-(1.0-y),  (1.0-y), (1.0+y), -(1.0+y)],\n",
    "\t\t  [-(1.0-x), -(1.0+x), (1.0+x),  (1.0-x)]]\n",
    "\treturn 0.25*np.array(dN)"
   ]
  },
  {
   "cell_type": "code",
   "execution_count": 3,
   "id": "4bcbe6d0-4720-4506-bfac-17958198869e",
   "metadata": {},
   "outputs": [
    {
     "name": "stdout",
     "output_type": "stream",
     "text": [
      "create mesh\n"
     ]
    }
   ],
   "source": [
    "###############################\n",
    "print('create mesh')\n",
    "# input\n",
    "mesh_ex = 9\n",
    "mesh_ey = 49\n",
    "mesh_lx = 10.0\n",
    "mesh_ly = 50.0\n",
    "# derived\n",
    "mesh_nx      = mesh_ex + 1\n",
    "mesh_ny      = mesh_ey + 1\n",
    "num_nodes    = mesh_nx * mesh_ny\n",
    "num_elements = mesh_ex * mesh_ey\n",
    "mesh_hx      = mesh_lx / mesh_ex\n",
    "mesh_hy      = mesh_ly / mesh_ey\n",
    "nodes = []\n",
    "for y in np.linspace(0.0, mesh_ly, mesh_ny):\n",
    "\tfor x in np.linspace(0.0, mesh_lx, mesh_nx):\n",
    "\t\tnodes.append([x,y])\n",
    "nodes = np.array(nodes)\n",
    "conn = []\n",
    "for j in range(mesh_ey):\n",
    "\tfor i in range(mesh_ex):\n",
    "\t\tn0 = i + j*mesh_nx\n",
    "\t\tconn.append([n0, n0 + 1, n0 + 1 + mesh_nx, n0 + mesh_nx])"
   ]
  },
  {
   "cell_type": "code",
   "execution_count": 4,
   "id": "7ecf7220-6fd2-4469-ae74-2bcecc824c6e",
   "metadata": {},
   "outputs": [
    {
     "name": "stdout",
     "output_type": "stream",
     "text": [
      "material model - plane strain\n"
     ]
    }
   ],
   "source": [
    "###############################\n",
    "print ('material model - plane strain')\n",
    "E = 100.0\n",
    "v = 0.48\n",
    "C = E/(1.0+v)/(1.0-2.0*v) * np.array([[1.0-v,     v,     0.0],\n",
    "\t\t\t\t\t\t\t\t      [    v, 1.0-v,     0.0],\n",
    "\t\t\t\t\t\t\t\t      [  0.0,   0.0,   0.5-v]])"
   ]
  },
  {
   "cell_type": "code",
   "execution_count": 5,
   "id": "4d3bcf3d-1c57-4e42-8eae-3037c9201c96",
   "metadata": {},
   "outputs": [
    {
     "name": "stdout",
     "output_type": "stream",
     "text": [
      "create global stiffness matrix\n"
     ]
    }
   ],
   "source": [
    "###############################\n",
    "print('create global stiffness matrix')\n",
    "K = np.zeros((2*num_nodes, 2*num_nodes))\n",
    "q4 = [[x/math.sqrt(3.0),y/math.sqrt(3.0)] for y in [-1.0,1.0] for x in [-1.0,1.0]]\n",
    "B = np.zeros((3,8))\n",
    "for c in conn:\n",
    "\txIe = nodes[c,:]\n",
    "\tKe = np.zeros((8,8))\n",
    "\tfor q in q4:\n",
    "\t\tdN = gradshape(q)\n",
    "\t\tJ  = np.dot(dN, xIe).T\n",
    "\t\tdN = np.dot(np.linalg.inv(J), dN)\n",
    "\t\tB[0,0::2] = dN[0,:]\n",
    "\t\tB[1,1::2] = dN[1,:]\n",
    "\t\tB[2,0::2] = dN[1,:]\n",
    "\t\tB[2,1::2] = dN[0,:]\n",
    "\t\tKe += np.dot(np.dot(B.T,C),B) * np.linalg.det(J)\n",
    "\tfor i,I in enumerate(c):\n",
    "\t\tfor j,J in enumerate(c):\n",
    "\t\t\tK[2*I,2*J]     += Ke[2*i,2*j]\n",
    "\t\t\tK[2*I+1,2*J]   += Ke[2*i+1,2*j]\n",
    "\t\t\tK[2*I+1,2*J+1] += Ke[2*i+1,2*j+1]\n",
    "\t\t\tK[2*I,2*J+1]   += Ke[2*i,2*j+1]"
   ]
  },
  {
   "cell_type": "code",
   "execution_count": 6,
   "id": "f2c8a98b-17b7-4e5f-91f1-907bbdccfbd7",
   "metadata": {},
   "outputs": [
    {
     "name": "stdout",
     "output_type": "stream",
     "text": [
      "assign nodal forces and boundary conditions\n"
     ]
    }
   ],
   "source": [
    "###############################\n",
    "print('assign nodal forces and boundary conditions')\n",
    "f = np.zeros((2*num_nodes))\n",
    "for i in range(num_nodes):\n",
    "\tif nodes[i,1] == 0.0:\n",
    "\t\tK[2*i,:]     = 0.0\n",
    "\t\tK[2*i+1,:]   = 0.0\n",
    "\t\tK[2*i,2*i]   = 1.0\n",
    "\t\tK[2*i+1,2*i+1] = 1.0\n",
    "\tif nodes[i,1] == mesh_ly:\n",
    "\t\tx = nodes[i,0]\n",
    "\t\tf[2*i+1] = 20.0\n",
    "\t\tif x == 0.0 or x == mesh_lx:\n",
    "\t\t\tf[2*i+1] *= 0.5"
   ]
  },
  {
   "cell_type": "code",
   "execution_count": 7,
   "id": "538adbaf-2fc8-4438-9796-b94f1be8bf82",
   "metadata": {},
   "outputs": [
    {
     "name": "stdout",
     "output_type": "stream",
     "text": [
      "solving linear system\n",
      "max u= 6.745400245722785\n"
     ]
    }
   ],
   "source": [
    "###############################\n",
    "print('solving linear system')\n",
    "u = np.linalg.solve(K, f)\n",
    "print('max u=', max(u))"
   ]
  },
  {
   "cell_type": "code",
   "execution_count": 8,
   "id": "9a9a643f-a31f-48d9-95f1-9966e0d42c09",
   "metadata": {},
   "outputs": [
    {
     "name": "stdout",
     "output_type": "stream",
     "text": [
      "plotting displacement\n"
     ]
    },
    {
     "data": {
      "image/png": "[encoded data removed]",
      "text/plain": [
       "<Figure size 640x480 with 2 Axes>"
      ]
     },
     "metadata": {},
     "output_type": "display_data"
    }
   ],
   "source": [
    "###############################\n",
    "print('plotting displacement')\n",
    "ux = np.reshape(u[0::2], (mesh_ny,mesh_nx))\n",
    "uy = np.reshape(u[1::2], (mesh_ny,mesh_nx))\n",
    "xvec = []\n",
    "yvec = []\n",
    "res  = []\n",
    "for i in range(mesh_nx):\n",
    "    for j in range(mesh_ny):\n",
    "        xvec.append(i*mesh_hx + ux[j,i])\n",
    "        yvec.append(j*mesh_hy + uy[j,i])\n",
    "        res.append(uy[j,i])\n",
    "t = plt.tricontourf(xvec, yvec, res, levels=14, cmap=plt.cm.jet)\n",
    "plt.scatter(xvec, yvec, marker='o', c='b', s=2)\n",
    "plt.grid()\n",
    "plt.colorbar(t)\n",
    "plt.axis('equal')\n",
    "plt.show()"
   ]
  },
  {
   "cell_type": "code",
   "execution_count": null,
   "id": "a394981d-1b4d-4f29-b45e-3c28da3376ca",
   "metadata": {},
   "outputs": [],
   "source": []
  }
 ],
 "metadata": {
  "kernelspec": {
   "display_name": "Python 3 (ipykernel)",
   "language": "python",
   "name": "python3"
  },
  "language_info": {
   "codemirror_mode": {
    "name": "ipython",
    "version": 3
   },
   "file_extension": ".py",
   "mimetype": "text/x-python",
   "name": "python",
   "nbconvert_exporter": "python",
   "pygments_lexer": "ipython3",
   "version": "3.11.7"
  }
 },
 "nbformat": 4,
 "nbformat_minor": 5
}
