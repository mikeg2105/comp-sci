{
 "cells": [
  {
   "cell_type": "code",
   "execution_count": null,
   "id": "0694ad85-1ee2-4773-bee2-3433977aa75a",
   "metadata": {},
   "outputs": [],
   "source": [
    "\n",
    "https://en.wikipedia.org/wiki/Stiffness_matrix#The_stiffness_matrix_for_the_Poisson_problem\n"
   ]
  },
  {
   "cell_type": "code",
   "execution_count": 1,
   "id": "b720649d-337f-46f5-8a1b-4038b1544f7a",
   "metadata": {},
   "outputs": [],
   "source": [
    "import numpy as np\n",
    "from scipy.sparse import lil_matrix\n",
    "from scipy.sparse.linalg import spsolve"
   ]
  },
  {
   "cell_type": "code",
   "execution_count": 2,
   "id": "67dbb597-7c0e-4399-8d9e-12b6f15f391a",
   "metadata": {},
   "outputs": [],
   "source": [
    "def poisson_square_mesh(n):\n",
    "    # Create a square mesh with n elements per side\n",
    "    x = np.linspace(0, 2*np.pi, n + 1)\n",
    "    y = np.linspace(0, 2*np.pi, n + 1)\n",
    "    X, Y = np.meshgrid(x, y)\n",
    "    nodes = np.vstack((X.ravel(), Y.ravel())).T\n",
    "\n",
    "    # Generate element connectivity\n",
    "    elements = []\n",
    "    for i in range(n):\n",
    "        for j in range(n):\n",
    "            node0 = i * (n + 1) + j\n",
    "            node1 = (i + 1) * (n + 1) + j\n",
    "            node2 = (i + 1) * (n + 1) + (j + 1)\n",
    "            node3 = i * (n + 1) + (j + 1)\n",
    "            elements.append([node0, node1, node2])\n",
    "            elements.append([node0, node2, node3])\n",
    "\n",
    "    # Assemble stiffness matrix and load vector\n",
    "    num_nodes = (n + 1) * (n + 1)\n",
    "    A = lil_matrix((num_nodes, num_nodes))\n",
    "    b = np.zeros(num_nodes)\n",
    "    \n",
    "    count=0\n",
    "    for elem in elements:\n",
    "        if count==((n*n)/2):\n",
    "            b[elem]=50\n",
    "            \n",
    "        x = nodes[elem, 0]\n",
    "        y = nodes[elem, 1]\n",
    "\n",
    "        count=count+1\n",
    "\n",
    "        # Compute element stiffness matrix\n",
    "        dx = np.diff(x)+1\n",
    "        dy = np.diff(y)+1\n",
    "        area = np.prod(dx) * np.prod(dy)\n",
    "        B = np.array([\n",
    "            [1 / dx[0], 1 / dx[1], -1 / dx[1], -1 / dx[0]],\n",
    "            [1 / dy[0], 1 / dy[1], -1 / dy[1], -1 / dy[0]]\n",
    "        ])\n",
    "        K = np.dot(np.dot(B.T, np.diag([1, 1])), B) * area\n",
    "\n",
    "        # Assemble stiffness matrix and load vector\n",
    "        for i in range(3):\n",
    "            for j in range(3):\n",
    "                A[elem[i], elem[j]] += K[i, j]\n",
    "        b[elem] += area / 6  # Assuming constant load\n",
    "\n",
    "    # Apply Dirichlet boundary conditions\n",
    "    boundary_nodes = np.unique(np.concatenate((\n",
    "        np.arange(n + 1),                        # Bottom boundary\n",
    "        np.arange(1, (n + 1) * (n + 1), n + 1),  # Left boundary\n",
    "        np.arange(n + 1, (n + 1) * (n + 1), n + 1),  # Right boundary\n",
    "        np.arange(n * (n + 1), (n + 1) * (n + 1))  # Top boundary\n",
    "    )))\n",
    "\n",
    "    A[boundary_nodes, :]=1\n",
    "    for i in range(num_nodes):\n",
    "        A[boundary_nodes, i] = np.sin(x[i])\n",
    "    A[boundary_nodes, boundary_nodes] = 1\n",
    "    b[boundary_nodes] = 0\n",
    "\n",
    "    # Solve the linear system\n",
    "    u = spsolve(A.tocsr(), b)\n",
    "\n",
    "    return nodes, elements, u"
   ]
  },
  {
   "cell_type": "code",
   "execution_count": 3,
   "id": "c4792fc5-c7e8-4f79-bd57-2e0516000f5e",
   "metadata": {},
   "outputs": [],
   "source": [
    "def gen_square_mesh(n):\n",
    "    # Create a square mesh with n elements per side\n",
    "    x = np.linspace(0, 1, n + 1)\n",
    "    y = np.linspace(0, 1, n + 1)\n",
    "    X, Y = np.meshgrid(x, y)\n",
    "    nodes = np.vstack((X.ravel(), Y.ravel())).T\n",
    "\n",
    "    # Generate element connectivity\n",
    "    elements = []\n",
    "    for i in range(n):\n",
    "        for j in range(n):\n",
    "            node0 = i * (n + 1) + j\n",
    "            node1 = (i + 1) * (n + 1) + j\n",
    "            node2 = (i + 1) * (n + 1) + (j + 1)\n",
    "            node3 = i * (n + 1) + (j + 1)\n",
    "            elements.append([node0, node1, node2])\n",
    "            elements.append([node0, node2, node3])\n",
    "\n",
    "    return nodes, elements"
   ]
  },
  {
   "cell_type": "code",
   "execution_count": 8,
   "id": "1d3bae65-f401-47c6-9112-27e06d62bf6b",
   "metadata": {},
   "outputs": [],
   "source": [
    "def assemble_stiffness_matrix(nodes, elements):\n",
    "    # Assemble stiffness matrix and load vector\n",
    "    num_nodes = (n + 1) * (n + 1)\n",
    "    A = lil_matrix((num_nodes, num_nodes))\n",
    "    b = np.zeros(num_nodes)\n",
    "\n",
    "    for elem in elements:\n",
    "\n",
    "        #if elem==b[elem]\n",
    "        x = nodes[elem, 0]\n",
    "        y = nodes[elem, 1]\n",
    "\n",
    "        # Compute element stiffness matrix\n",
    "        dx = np.diff(x)\n",
    "        dy = np.diff(y)\n",
    "        area = np.prod(dx) * np.prod(dy)\n",
    "        B = np.array([\n",
    "            [1 / dx[0], 1 / dx[1], -1 / dx[1], -1 / dx[0]],\n",
    "            [1 / dy[0], 1 / dy[1], -1 / dy[1], -1 / dy[0]]\n",
    "        ])\n",
    "        K = np.dot(np.dot(B.T, np.diag([1, 1])), B) * area\n",
    "\n",
    "        # Assemble stiffness matrix and load vector\n",
    "        for i in range(3):\n",
    "            for j in range(3):\n",
    "                A[elem[i], elem[j]] += K[i, j]\n",
    "        b[elem] += area / 6  # Assuming constant load\n",
    "        \n",
    "    return A, b"
   ]
  },
  {
   "cell_type": "code",
   "execution_count": 6,
   "id": "746e73cc-90ee-4fb3-94d3-c68749b18328",
   "metadata": {},
   "outputs": [],
   "source": [
    "def apply_boundary_conds(A,b,n):\n",
    "    # Apply Dirichlet boundary conditions\n",
    "    boundary_nodes = np.unique(np.concatenate((\n",
    "        np.arange(n + 1),                        # Bottom boundary\n",
    "        np.arange(1, (n + 1) * (n + 1), n + 1),  # Left boundary\n",
    "        np.arange(n + 1, (n + 1) * (n + 1), n + 1),  # Right boundary\n",
    "        np.arange(n * (n + 1), (n + 1) * (n + 1))  # Top boundary\n",
    "    )))\n",
    "    A[boundary_nodes, :] = 0\n",
    "    A[boundary_nodes, boundary_nodes] = 1\n",
    "    b[boundary_nodes] = 0\n",
    "\n",
    "    return A,b"
   ]
  },
  {
   "cell_type": "code",
   "execution_count": 7,
   "id": "de0712bd-fe01-4e94-a1de-e539f2ae3c0b",
   "metadata": {},
   "outputs": [],
   "source": [
    "def solve_system(A,b,n):\n",
    "    # Solve the linear system\n",
    "    u = spsolve(A.tocsr(), b)\n",
    "    return u"
   ]
  },
  {
   "cell_type": "code",
   "execution_count": 47,
   "id": "2af36b09-fbc4-4c06-bae4-245777ef7547",
   "metadata": {},
   "outputs": [
    {
     "name": "stdout",
     "output_type": "stream",
     "text": [
      "[0.5 1.  1. ]\n",
      "[0.5 0. ]\n"
     ]
    }
   ],
   "source": [
    "x=nodes[elements[7],0]\n",
    "print(x)\n",
    "print(np.diff(x))"
   ]
  },
  {
   "cell_type": "code",
   "execution_count": 9,
   "id": "a2b1ae1d-169d-49ad-94d0-606ae7d08248",
   "metadata": {},
   "outputs": [],
   "source": [
    "n=2\n",
    "nodes, elements = gen_square_mesh(n)"
   ]
  },
  {
   "cell_type": "code",
   "execution_count": 10,
   "id": "79c9a77f-561d-4e37-a306-6f3c07663ee0",
   "metadata": {},
   "outputs": [
    {
     "name": "stdout",
     "output_type": "stream",
     "text": [
      "[[0, 3, 4], [0, 4, 1], [1, 4, 5], [1, 5, 2], [3, 6, 7], [3, 7, 4], [4, 7, 8], [4, 8, 5]]\n"
     ]
    }
   ],
   "source": [
    "print(elements)"
   ]
  },
  {
   "cell_type": "code",
   "execution_count": 48,
   "id": "45df35cb-c302-4401-8101-c835a675f04f",
   "metadata": {},
   "outputs": [
    {
     "name": "stdout",
     "output_type": "stream",
     "text": [
      "[[0.  0. ]\n",
      " [0.5 0. ]\n",
      " [1.  0. ]\n",
      " [0.  0.5]\n",
      " [0.5 0.5]\n",
      " [1.  0.5]\n",
      " [0.  1. ]\n",
      " [0.5 1. ]\n",
      " [1.  1. ]]\n"
     ]
    }
   ],
   "source": [
    "print(nodes)"
   ]
  },
  {
   "cell_type": "code",
   "execution_count": 11,
   "id": "936f39d4-488a-4ed1-a774-863f78483136",
   "metadata": {},
   "outputs": [
    {
     "name": "stderr",
     "output_type": "stream",
     "text": [
      "C:\\Users\\mikeg\\AppData\\Local\\Temp\\ipykernel_5400\\1663127141.py:18: RuntimeWarning: divide by zero encountered in scalar divide\n",
      "  [1 / dx[0], 1 / dx[1], -1 / dx[1], -1 / dx[0]],\n",
      "C:\\Users\\mikeg\\AppData\\Local\\Temp\\ipykernel_5400\\1663127141.py:19: RuntimeWarning: divide by zero encountered in scalar divide\n",
      "  [1 / dy[0], 1 / dy[1], -1 / dy[1], -1 / dy[0]]\n",
      "C:\\Users\\mikeg\\AppData\\Local\\Temp\\ipykernel_5400\\1663127141.py:21: RuntimeWarning: invalid value encountered in multiply\n",
      "  K = np.dot(np.dot(B.T, np.diag([1, 1])), B) * area\n"
     ]
    }
   ],
   "source": [
    "A,b=assemble_stiffness_matrix(nodes, elements)"
   ]
  },
  {
   "cell_type": "code",
   "execution_count": 12,
   "id": "b895f6ad-ef10-4868-8b66-a34a4001f50f",
   "metadata": {},
   "outputs": [
    {
     "name": "stdout",
     "output_type": "stream",
     "text": [
      "  (0, 0)\tnan\n",
      "  (0, 1)\tnan\n",
      "  (0, 3)\tnan\n",
      "  (0, 4)\tnan\n",
      "  (1, 0)\tnan\n",
      "  (1, 1)\tnan\n",
      "  (1, 2)\tnan\n",
      "  (1, 4)\tnan\n",
      "  (1, 5)\tnan\n",
      "  (2, 1)\tnan\n",
      "  (2, 2)\tnan\n",
      "  (2, 5)\tnan\n",
      "  (3, 0)\tnan\n",
      "  (3, 3)\tnan\n",
      "  (3, 4)\tnan\n",
      "  (3, 6)\tnan\n",
      "  (3, 7)\tnan\n",
      "  (4, 0)\tnan\n",
      "  (4, 1)\tnan\n",
      "  (4, 3)\tnan\n",
      "  (4, 4)\tnan\n",
      "  (4, 5)\tnan\n",
      "  (4, 7)\tnan\n",
      "  (4, 8)\tnan\n",
      "  (5, 1)\tnan\n",
      "  (5, 2)\tnan\n",
      "  (5, 4)\tnan\n",
      "  (5, 5)\tnan\n",
      "  (5, 8)\tnan\n",
      "  (6, 3)\tnan\n",
      "  (6, 6)\tnan\n",
      "  (6, 7)\tnan\n",
      "  (7, 3)\tnan\n",
      "  (7, 4)\tnan\n",
      "  (7, 6)\tnan\n",
      "  (7, 7)\tnan\n",
      "  (7, 8)\tnan\n",
      "  (8, 4)\tnan\n",
      "  (8, 5)\tnan\n",
      "  (8, 7)\tnan\n",
      "  (8, 8)\tnan\n"
     ]
    }
   ],
   "source": [
    "print(A)"
   ]
  },
  {
   "cell_type": "code",
   "execution_count": 69,
   "id": "176d750c-cb3f-474e-a38e-a0854e088c2d",
   "metadata": {},
   "outputs": [
    {
     "ename": "IndexError",
     "evalue": "index 3 is out of bounds for axis 0 with size 3",
     "output_type": "error",
     "traceback": [
      "\u001b[1;31m---------------------------------------------------------------------------\u001b[0m",
      "\u001b[1;31mIndexError\u001b[0m                                Traceback (most recent call last)",
      "Cell \u001b[1;32mIn[69], line 2\u001b[0m\n\u001b[0;32m      1\u001b[0m n \u001b[38;5;241m=\u001b[39m \u001b[38;5;241m50\u001b[39m  \u001b[38;5;66;03m# Number of elements per side\u001b[39;00m\n\u001b[1;32m----> 2\u001b[0m nodes, elements, u \u001b[38;5;241m=\u001b[39m poisson_square_mesh(n)\n\u001b[0;32m      4\u001b[0m \u001b[38;5;66;03m# Plot the solution\u001b[39;00m\n\u001b[0;32m      5\u001b[0m \u001b[38;5;28;01mimport\u001b[39;00m \u001b[38;5;21;01mmatplotlib\u001b[39;00m\u001b[38;5;21;01m.\u001b[39;00m\u001b[38;5;21;01mpyplot\u001b[39;00m \u001b[38;5;28;01mas\u001b[39;00m \u001b[38;5;21;01mplt\u001b[39;00m\n",
      "Cell \u001b[1;32mIn[68], line 60\u001b[0m, in \u001b[0;36mpoisson_square_mesh\u001b[1;34m(n)\u001b[0m\n\u001b[0;32m     58\u001b[0m A[boundary_nodes, :]\u001b[38;5;241m=\u001b[39m\u001b[38;5;241m1\u001b[39m\n\u001b[0;32m     59\u001b[0m \u001b[38;5;28;01mfor\u001b[39;00m i \u001b[38;5;129;01min\u001b[39;00m \u001b[38;5;28mrange\u001b[39m(num_nodes):\n\u001b[1;32m---> 60\u001b[0m     A[boundary_nodes, i] \u001b[38;5;241m=\u001b[39m np\u001b[38;5;241m.\u001b[39msin(x[i])\n\u001b[0;32m     61\u001b[0m A[boundary_nodes, boundary_nodes] \u001b[38;5;241m=\u001b[39m \u001b[38;5;241m1\u001b[39m\n\u001b[0;32m     62\u001b[0m b[boundary_nodes] \u001b[38;5;241m=\u001b[39m \u001b[38;5;241m0\u001b[39m\n",
      "\u001b[1;31mIndexError\u001b[0m: index 3 is out of bounds for axis 0 with size 3"
     ]
    }
   ],
   "source": [
    "    n = 50  # Number of elements per side\n",
    "    nodes, elements, u = poisson_square_mesh(n)\n",
    "    \n",
    "    # Plot the solution\n",
    "    import matplotlib.pyplot as plt\n",
    "    plt.tripcolor(nodes[:, 0], nodes[:, 1], elements, u, shading='gouraud')\n",
    "    plt.colorbar()\n",
    "    plt.title(\"Finite Element Solution of Poisson Equation\")\n",
    "    plt.xlabel(\"x\")\n",
    "    plt.ylabel(\"y\")\n",
    "    plt.show()"
   ]
  },
  {
   "cell_type": "code",
   "execution_count": null,
   "id": "fef26d74-8c7b-4e0f-9542-4dcac01e024b",
   "metadata": {},
   "outputs": [],
   "source": []
  }
 ],
 "metadata": {
  "kernelspec": {
   "display_name": "Python 3 (ipykernel)",
   "language": "python",
   "name": "python3"
  },
  "language_info": {
   "codemirror_mode": {
    "name": "ipython",
    "version": 3
   },
   "file_extension": ".py",
   "mimetype": "text/x-python",
   "name": "python",
   "nbconvert_exporter": "python",
   "pygments_lexer": "ipython3",
   "version": "3.11.7"
  }
 },
 "nbformat": 4,
 "nbformat_minor": 5
}
