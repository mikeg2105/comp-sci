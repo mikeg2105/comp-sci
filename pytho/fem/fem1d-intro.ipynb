{
 "cells": [
  {
   "cell_type": "markdown",
   "metadata": {},
   "source": [
    "**ITMO University**"
   ]
  },
  {
   "cell_type": "markdown",
   "metadata": {},
   "source": [
    "**Lectures \"Computations in Physics\" spring 2016**\n"
   ]
  },
  {
   "cell_type": "markdown",
   "metadata": {},
   "source": [
    "Konstantin Ladutenko"
   ]
  },
  {
   "cell_type": "markdown",
   "metadata": {},
   "source": [
    "recommended book: Anastasis C. Polycarpou \"Introduction to the Finite Element Method in Electromagnetics\" (doi:10.2200/S00019ED1V01Y200604CEM004)"
   ]
  },
  {
   "cell_type": "markdown",
   "metadata": {},
   "source": [
    "**<font size=\"5\">Solving 1D Poisson`s problem with Finite Element Method (FEM)</font>**"
   ]
  },
  {
   "cell_type": "markdown",
   "metadata": {},
   "source": [
    "<h1 id=\"tocheading\">Table of Contents</h1>\n",
    "<div id=\"toc\"></div>"
   ]
  },
  {
   "cell_type": "markdown",
   "metadata": {},
   "source": [
    "Initialize the notebook, import all needed libs"
   ]
  },
  {
   "cell_type": "code",
   "execution_count": 1,
   "metadata": {
    "collapsed": false,
    "jupyter": {
     "outputs_hidden": false
    }
   },
   "outputs": [],
   "source": [
    "%matplotlib inline\n",
    "import matplotlib.pyplot as plt\n",
    "import numpy as np\n",
    "from sympy import *\n",
    "from IPython.display import display, Math, Latex\n",
    "from fractions import Fraction\n",
    "from sympy import symbols\n",
    "from sympy.plotting import plot\n",
    "\n",
    "#init_printing(use_latex='mathjax')\n",
    "init_printing()\n",
    "def latex_print( str ):\n",
    "   \"Helper to print LaTeX strings, takes raw string (like r'string')\"    \n",
    "   display(Latex(str))\n",
    "   return\n",
    "init_printing()  \n"
   ]
  },
  {
   "cell_type": "markdown",
   "metadata": {},
   "source": [
    "# Analytical solution"
   ]
  },
  {
   "cell_type": "markdown",
   "metadata": {},
   "source": [
    "Basic example of Python SymPy usage.\n",
    "Set one dimensional Poisson`s equation"
   ]
  },
  {
   "cell_type": "code",
   "execution_count": 2,
   "metadata": {
    "collapsed": false,
    "jupyter": {
     "outputs_hidden": false
    }
   },
   "outputs": [
    {
     "ename": "NameError",
     "evalue": "name 'relational' is not defined",
     "output_type": "error",
     "traceback": [
      "\u001b[1;31m---------------------------------------------------------------------------\u001b[0m",
      "\u001b[1;31mNameError\u001b[0m                                 Traceback (most recent call last)",
      "Cell \u001b[1;32mIn[2], line 9\u001b[0m\n\u001b[0;32m      7\u001b[0m \u001b[38;5;66;03m#The equation\u001b[39;00m\n\u001b[0;32m      8\u001b[0m eq \u001b[38;5;241m=\u001b[39m rho_0\u001b[38;5;241m/\u001b[39m(eps_0\u001b[38;5;241m*\u001b[39meps_r)       \u001b[38;5;66;03m###### Right-hand side\u001b[39;00m\n\u001b[1;32m----> 9\u001b[0m relational\u001b[38;5;241m.\u001b[39mEq(diff(V,x,\u001b[38;5;241m2\u001b[39m), eq)\n",
      "\u001b[1;31mNameError\u001b[0m: name 'relational' is not defined"
     ]
    }
   ],
   "source": [
    "\n",
    "# Define symbols\n",
    "x, rho_0, eps_r, eps_0 ,d= symbols(\"x,rho_0,varepsilon_r,varepsilon_0,d\")\n",
    "V = Function('V')(x)\n",
    "V_0, V_d = symbols(\"V_0, V_d\")\n",
    "c_1, c_0 = symbols(\"c_1, c_0\")\n",
    "\n",
    "#The equation\n",
    "eq = rho_0/(eps_0*eps_r)       ###### Right-hand side\n",
    "relational.Eq(diff(V,x,2), eq)\n"
   ]
  },
  {
   "cell_type": "markdown",
   "metadata": {},
   "source": [
    "Integrate it twice"
   ]
  },
  {
   "cell_type": "code",
   "execution_count": 3,
   "metadata": {
    "collapsed": false,
    "jupyter": {
     "outputs_hidden": false
    }
   },
   "outputs": [
    {
     "data": {
      "image/png": "[encoded data removed]",
      "text/latex": [
       "$$V{\\left (x \\right )} = c_{0} + c_{1} x + \\frac{\\rho_{0} x^{2}}{2 \\varepsilon_{0} \\varepsilon_{r}}$$"
      ],
      "text/plain": [
       "                                 2          \n",
       "                             ρ₀⋅x           \n",
       "V(x) = c₀ + c₁⋅x + ─────────────────────────\n",
       "                   2⋅varepsilon₀⋅varepsilonᵣ"
      ]
     },
     "execution_count": 3,
     "metadata": {},
     "output_type": "execute_result"
    }
   ],
   "source": [
    "###### Manually adding constants to integration\n",
    "Veq = integrate(integrate(eq,x) + c_1,x)+c_0   \n",
    "relational.Eq(V,Veq)"
   ]
  },
  {
   "cell_type": "markdown",
   "metadata": {},
   "source": [
    "Add *Dirichlet* boundary condition"
   ]
  },
  {
   "cell_type": "code",
   "execution_count": 4,
   "metadata": {
    "collapsed": false,
    "jupyter": {
     "outputs_hidden": false
    }
   },
   "outputs": [
    {
     "data": {
      "image/png": "[encoded data removed]",
      "text/latex": [
       "$$c_{0} = V_{0}$$"
      ],
      "text/plain": [
       "c₀ = V₀"
      ]
     },
     "metadata": {},
     "output_type": "display_data"
    },
    {
     "data": {
      "image/png": "[encoded data removed]",
      "text/latex": [
       "$$c_{0} + c_{1} d + \\frac{d^{2} \\rho_{0}}{2 \\varepsilon_{0} \\varepsilon_{r}} = V_{d}$$"
      ],
      "text/plain": [
       "                       2                   \n",
       "                      d ⋅ρ₀                \n",
       "c₀ + c₁⋅d + ───────────────────────── = V_d\n",
       "            2⋅varepsilon₀⋅varepsilonᵣ      "
      ]
     },
     "metadata": {},
     "output_type": "display_data"
    }
   ],
   "source": [
    "display(relational.Eq(Veq.replace(x,0), V_0))       ###### x=0\n",
    "display(relational.Eq(Veq.replace(x,d), V_d))"
   ]
  },
  {
   "cell_type": "markdown",
   "metadata": {},
   "source": [
    "So, we can simply substitute $c_0$ with $V_0$"
   ]
  },
  {
   "cell_type": "code",
   "execution_count": 3,
   "metadata": {
    "collapsed": false,
    "jupyter": {
     "outputs_hidden": false
    }
   },
   "outputs": [
    {
     "ename": "NameError",
     "evalue": "name 'Veq' is not defined",
     "output_type": "error",
     "traceback": [
      "\u001b[1;31m---------------------------------------------------------------------------\u001b[0m",
      "\u001b[1;31mNameError\u001b[0m                                 Traceback (most recent call last)",
      "Cell \u001b[1;32mIn[3], line 1\u001b[0m\n\u001b[1;32m----> 1\u001b[0m eq1 \u001b[38;5;241m=\u001b[39m Veq\u001b[38;5;241m.\u001b[39mreplace(x,d)\u001b[38;5;241m.\u001b[39mreplace(c_0, V_0)\n\u001b[0;32m      2\u001b[0m display(relational\u001b[38;5;241m.\u001b[39mEq(eq1, V_d))\n",
      "\u001b[1;31mNameError\u001b[0m: name 'Veq' is not defined"
     ]
    }
   ],
   "source": [
    "eq1 = Veq.replace(x,d).replace(c_0, V_0)\n",
    "display(relational.Eq(eq1, V_d))"
   ]
  },
  {
   "cell_type": "markdown",
   "metadata": {},
   "source": [
    "and solve it for $c_1$"
   ]
  },
  {
   "cell_type": "code",
   "execution_count": 6,
   "metadata": {
    "collapsed": false,
    "jupyter": {
     "outputs_hidden": false
    }
   },
   "outputs": [
    {
     "data": {
      "image/png": "[encoded data removed]",
      "text/latex": [
       "$$\\left [ - \\frac{V_{0}}{d} - \\frac{d \\rho_{0}}{2 \\varepsilon_{0} \\varepsilon_{r}}\\right ]$$"
      ],
      "text/plain": [
       "⎡  V₀              d⋅ρ₀          ⎤\n",
       "⎢- ── - ─────────────────────────⎥\n",
       "⎣  d    2⋅varepsilon₀⋅varepsilonᵣ⎦"
      ]
     },
     "metadata": {},
     "output_type": "display_data"
    }
   ],
   "source": [
    "solution = solve(eq1,c_1)\n",
    "display(solution)"
   ]
  },
  {
   "cell_type": "markdown",
   "metadata": {},
   "source": [
    "Put $c_0$ and $c_1$ to $V$ equation"
   ]
  },
  {
   "cell_type": "code",
   "execution_count": 7,
   "metadata": {
    "collapsed": false,
    "jupyter": {
     "outputs_hidden": false
    }
   },
   "outputs": [
    {
     "data": {
      "image/png": "[encoded data removed]",
      "text/latex": [
       "$$c_{0} + c_{1} x + \\frac{\\rho_{0} x^{2}}{2 \\varepsilon_{0} \\varepsilon_{r}}$$"
      ],
      "text/plain": [
       "                          2          \n",
       "                      ρ₀⋅x           \n",
       "c₀ + c₁⋅x + ─────────────────────────\n",
       "            2⋅varepsilon₀⋅varepsilonᵣ"
      ]
     },
     "metadata": {},
     "output_type": "display_data"
    },
    {
     "data": {
      "image/png": "[encoded data removed]",
      "text/latex": [
       "$$V_{0} + \\frac{\\rho_{0} x^{2}}{2 \\varepsilon_{0} \\varepsilon_{r}} + x \\left(- \\frac{V_{0}}{d} - \\frac{d \\rho_{0}}{2 \\varepsilon_{0} \\varepsilon_{r}}\\right) = V{\\left (x \\right )}$$"
      ],
      "text/plain": [
       "                   2                                                        \n",
       "               ρ₀⋅x                ⎛  V₀              d⋅ρ₀          ⎞       \n",
       "V₀ + ───────────────────────── + x⋅⎜- ── - ─────────────────────────⎟ = V(x)\n",
       "     2⋅varepsilon₀⋅varepsilonᵣ     ⎝  d    2⋅varepsilon₀⋅varepsilonᵣ⎠       "
      ]
     },
     "metadata": {},
     "output_type": "display_data"
    }
   ],
   "source": [
    "display(Veq)\n",
    "solved = Veq.replace(c_0,V_0).replace(c_1,solution[0])\n",
    "display(relational.Eq(solved,V))"
   ]
  },
  {
   "cell_type": "markdown",
   "metadata": {},
   "source": [
    "Output the solution as a string for evaluation"
   ]
  },
  {
   "cell_type": "code",
   "execution_count": 8,
   "metadata": {
    "collapsed": false,
    "jupyter": {
     "outputs_hidden": false
    }
   },
   "outputs": [
    {
     "data": {
      "text/plain": [
       "'V_0 + rho_0*x**2/(2*varepsilon_0*varepsilon_r) + x*(-V_0/d - d*rho_0/(2*varepsilon_0*varepsilon_r))'"
      ]
     },
     "execution_count": 8,
     "metadata": {},
     "output_type": "execute_result"
    }
   ],
   "source": [
    "str(solved)"
   ]
  },
  {
   "cell_type": "markdown",
   "metadata": {},
   "source": [
    "Evaluate analytical solution"
   ]
  },
  {
   "cell_type": "code",
   "execution_count": 9,
   "metadata": {
    "collapsed": false,
    "jupyter": {
     "outputs_hidden": false
    }
   },
   "outputs": [
    {
     "name": "stdout",
     "output_type": "stream",
     "text": [
      "564.704533380374*x**2 - 57.6763626704299*x + 1\n",
      "0\n"
     ]
    }
   ],
   "source": [
    "varepsilon_0 = 8.8541878176*10e-12 #F/m\n",
    "varepsilon_r = 1\n",
    "V_0 = 1 #Volt\n",
    "d = 0.08 #m\n",
    "rho_0 = 10e-8 # C/m**3\n",
    "x = symbols('x')\n",
    "evaluate = (V_0 + rho_0*x**2/(2*varepsilon_0*varepsilon_r)\n",
    "            + x*(-V_0/d - d*rho_0/(2*varepsilon_0*varepsilon_r)))\n",
    "print(evaluate)  ## Check substitution\n",
    "print(evaluate.subs({x:0.08})) # Check right boundary\n",
    "nmax = 50  # Number of samples for plotting\n",
    "x_vec = np.linspace(0.0, d, num=nmax)\n",
    "y_vec = np.array([ evaluate.subs({x:value}) for value in x_vec])  "
   ]
  },
  {
   "cell_type": "markdown",
   "metadata": {},
   "source": [
    "Plot the solution"
   ]
  },
  {
   "cell_type": "code",
   "execution_count": 10,
   "metadata": {
    "collapsed": false,
    "jupyter": {
     "outputs_hidden": false
    }
   },
   "outputs": [
    {
     "data": {
      "image/png": "[encoded data removed]",
      "text/plain": [
       "<matplotlib.figure.Figure at 0x7f1b700fbef0>"
      ]
     },
     "metadata": {},
     "output_type": "display_data"
    }
   ],
   "source": [
    "fig, ax = plt.subplots()\n",
    "ax.plot(x_vec, y_vec);\n",
    "ax.set_xlim(0,0.08);"
   ]
  },
  {
   "cell_type": "markdown",
   "metadata": {},
   "source": [
    "# FEM derivation"
   ]
  },
  {
   "cell_type": "markdown",
   "metadata": {},
   "source": [
    "## Split into finite elements, approximate the solution with shape (interpolation) functions."
   ]
  },
  {
   "cell_type": "markdown",
   "metadata": {},
   "source": [
    "We can split our 1D continuous space into uniform line segments (cells), and we will address them as finite elements. Each element has coordinates $x_1$ and $x_2$, which correspond to local nodes 1 and 2 of the element. We can transform this coordinates to the natural ones (related to the reference cell):\n",
    "$$\\xi = \\frac{2(x-x_1)}{x_2-x_1}-1$$\n",
    "This way the coordinate inside the cell will be $(−1 \\leq \\xi \\leq 1)$. We will use uniform domain discretization and approximate the solution with linear shape functions:\n",
    "$$N_1(\\xi)=\\frac{1-\\xi}{2}$$\n",
    "$$N_2(\\xi)=\\frac{1+\\xi}{2}$$\n",
    "At any point inside the master (reference) element, the primary unknown quantity of potential $V$ can be expressed as approximate value\n",
    "$$\n",
    "\\widetilde{V}(\\xi)=V_1N_1(\\xi)+V_2N_2(\\xi)\n",
    "$$ \n",
    "or we can map it back to the real cell\n",
    "$$\n",
    "\\widetilde{V}(x)=\\left.\\sum_{j=1}^{n}v_j N_j(x)\\right|_{n=2}\n",
    "$$\n",
    "where $v_j$ are the solution values at the nodes of the element."
   ]
  },
  {
   "cell_type": "markdown",
   "metadata": {},
   "source": [
    "## Galerkin method"
   ]
  },
  {
   "cell_type": "markdown",
   "metadata": {},
   "source": [
    "Note: we will use $\\rho_v=-\\rho_0$ and $\\varepsilon = \\varepsilon_r \\varepsilon_0$"
   ]
  },
  {
   "cell_type": "markdown",
   "metadata": {},
   "source": [
    "We can rewrite the Poisson`s equation"
   ]
  },
  {
   "cell_type": "markdown",
   "metadata": {},
   "source": [
    "$$\\frac{d}{dx}\\left(\\varepsilon\\frac{dV}{dx}\\right)+\\rho_v=0$$\n",
    "Weak form of this equation can be applied to the approximate solution $\\widetilde{V}$. In other words, if we have found such a $\\widetilde{V}$ that fits well to the original Poisson`s equation it should be also correct to multiply both sides of the equation with an arbitrary test function $\\omega$ and integrate it over the domain:"
   ]
  },
  {
   "cell_type": "markdown",
   "metadata": {},
   "source": [
    "$$\n",
    "\\int_{x_1}^{x_2} \\omega \n",
    " \\left[\\frac{d}{dx} \\left( \n",
    " \\varepsilon\\frac{d\\widetilde{V}}{dx}\n",
    " \\right)+\\rho_v\n",
    "\\right] dx =0\n",
    "$$"
   ]
  },
  {
   "cell_type": "markdown",
   "metadata": {},
   "source": [
    "It is often preferred that the weight functions $\\omega(x)$ be identical to the interpolation or shape functions $N (x)$. This approach is known as the **Galerkin finite element\n",
    "method**. We will start with integration by parts to rewrite the first term of the equation above, using:\n",
    "    $$\\int_a^b U dV = UV|_a^b + \\int_a^b V dU$$\n",
    "we can get:\n",
    "$$\\int_{x_1}^{x_2} \\omega \n",
    "\\left[d\\left( \n",
    " \\varepsilon\\frac{d\\widetilde{V}}{dx}\n",
    " \\right)\n",
    "\\right]=\n",
    "\\omega \\varepsilon\n",
    "\\left.\\frac{d\\widetilde{V}}{dx}\n",
    "\\right|_{x_1}^{x_2}-\\int_{x_1}^{x_2} \\left( \\frac{d\\omega}{dx} \\right) \n",
    "   \\varepsilon\\frac{d\\widetilde{V}}{dx}dx$$"
   ]
  },
  {
   "cell_type": "markdown",
   "metadata": {},
   "source": [
    "Thus, the weak formulation of the governing differential equation can be expressed as\n",
    "\n",
    "$$\\int_{x_1}^{x_2}\\left(\\frac{d\\omega}{dx}\\right)\\varepsilon\\frac{d\\widetilde{V}}{dx}\n",
    "dx-\\int_{x_1}^{x_2} \\omega \\rho_v dx -\n",
    "\\omega \\varepsilon \n",
    "  \\left.\\frac{d\\widetilde{V}}{dx}\n",
    "  \\right|_{x_1}^{x_2}  \n",
    "= 0$$\n",
    "or\n",
    "\n",
    "$$\\int_{x_1}^{x_2} \\left( \\frac{d\\omega}{dx} \\right) \n",
    "\\varepsilon\\frac{d\\widetilde{V}}{dx}dx=\n",
    "\\int_{x_1}^{x_2} \\omega \\rho_v dx +\n",
    "\\omega   \\varepsilon \n",
    "  \\left.\\frac{d\\widetilde{V}}{dx}\n",
    "  \\right|_{x_1}^{x_2}$$"
   ]
  },
  {
   "cell_type": "markdown",
   "metadata": {},
   "source": [
    "By definition of the electric displacement\n",
    "$$D_x = -\\varepsilon\\frac{dV}{dx} $$ \n",
    "so"
   ]
  },
  {
   "cell_type": "markdown",
   "metadata": {},
   "source": [
    "$$\n",
    "\\omega \\varepsilon \n",
    "\\left.\\frac{d\\widetilde{V}}{dx}\n",
    " \\right|_{x_1}^{x_2} =\n",
    "     \\omega(x_1) \\widetilde{D}_x (x_1) - \\omega(x_2) \\widetilde{D}_x (x_2)\n",
    "$$"
   ]
  },
  {
   "cell_type": "markdown",
   "metadata": {},
   "source": [
    "and the full equation is\n",
    "\n",
    "$$\n",
    "\\int_{x_1}^{x_2}\\left( \\frac{d\\omega}{dx} \\right) \\varepsilon\\frac{d\\widetilde{V}}{dx}dx=\n",
    "\\int_{x_1}^{x_2} \\omega \\rho_v dx + \\omega(x_1)\\widetilde{D}_x (x_1)-\\omega(x_2)\\widetilde{D}_x (x_2)$$"
   ]
  },
  {
   "cell_type": "markdown",
   "metadata": {},
   "source": [
    "The last step in Galerkin method is to use shape functions $N(x)$ as weight functions $\\omega(x)$ \n",
    "and substitute\n",
    "$$\\widetilde{V}(x)= \\sum_{j=1}^{n} v_j N_j(x)$$"
   ]
  },
  {
   "cell_type": "markdown",
   "metadata": {},
   "source": [
    "Here, for 1D case we have selected \n",
    "$$N_1(\\xi)=\\frac{1-\\xi}{2}$$\n",
    "$$N_2(\\xi)=\\frac{1+\\xi}{2}$$\n",
    "This way, $N_1(x_1) = 1$, $N_1(x_2) = 0$, $N_2(x_1) = 0$, $N_2(x_2) = 1$"
   ]
  },
  {
   "cell_type": "markdown",
   "metadata": {},
   "source": [
    "And for both test functions we will get an equation system\n",
    "$$\\int_{x_1}^{x_2} \\left( \\frac{dN_1}{dx} \\right) \\varepsilon \n",
    "  \\left( \\sum_{j=1}^{2}   v_j \\frac{dN_j }{dx}\n",
    "   \\right)dx=\n",
    "\\int_{x_1}^{x_2} N_1 \\rho_v dx + \\widetilde{D}_x (x_1)$$\n",
    "$$\\int_{x_1}^{x_2} \\left( \\frac{dN_2}{dx} \\right) \n",
    "   \\varepsilon \n",
    "   \\left(\n",
    "   \\sum_{j=1}^{2}   v_j \\frac{dN_j }{dx}\n",
    "   \\right)dx=\n",
    "\\int_{x_1}^{x_2} N_2 \\rho_v dx - \\widetilde{D}_x (x_2)$$"
   ]
  },
  {
   "cell_type": "markdown",
   "metadata": {},
   "source": [
    "In matrix form\n",
    "$$\\begin{bmatrix}\n",
    "    K_{11}       & K_{12}\\\\\n",
    "    K_{21}       & K_{22}\n",
    "\\end{bmatrix}\n",
    "\\begin{bmatrix}\n",
    "   v_{1}\\\\\n",
    "   v_{2}\n",
    "\\end{bmatrix} =\n",
    "\\begin{bmatrix}\n",
    "   f_{1}\\\\\n",
    "   f_{2}\n",
    "\\end{bmatrix} +\n",
    "\\begin{bmatrix}\n",
    "   \\widetilde{D}_{1}\\\\\n",
    "   -\\widetilde{D}_{2}\n",
    "\\end{bmatrix}$$"
   ]
  },
  {
   "cell_type": "markdown",
   "metadata": {},
   "source": [
    "where\n",
    "$$K_{ij} = \\int_{x_1}^{x_2} \\left( \\frac{dN_i}{dx} \\right) \\varepsilon \n",
    "\\left(\\frac{dN_j }{dx}\n",
    "\\right) dx$$\n",
    "and\n",
    "$$f_i=\\int_{x_1}^{x_2}N_i\\rho_v dx$$"
   ]
  },
  {
   "cell_type": "markdown",
   "metadata": {},
   "source": [
    "As soon as $N_i$ is a linear function that changes by 1 on the length of the cell $l=x_2-x_1$ it is very easy to evaluate the above integrals, thus"
   ]
  },
  {
   "cell_type": "markdown",
   "metadata": {},
   "source": [
    "$$K=\\frac{\\varepsilon}{l}\n",
    "\\begin{bmatrix}\n",
    "     1  &  -1\\\\\n",
    "    -1  &   1\n",
    "\\end{bmatrix}$$\n",
    "and using $\\rho_v = -\\rho_0$ \n",
    "$$f= -\\frac{l \\rho_0}{2}\n",
    "\\begin{bmatrix}\n",
    "    1\\\\\n",
    "    1\n",
    "\\end{bmatrix}$$"
   ]
  },
  {
   "cell_type": "markdown",
   "metadata": {},
   "source": [
    "Finally, the governing matrix system for a single element is given by\n",
    "$$\\frac{\\varepsilon}{l}\n",
    "\\begin{bmatrix}\n",
    "    1  &  -1\\\\\n",
    "   -1  &   1\n",
    "\\end{bmatrix}\n",
    "\\begin{bmatrix}\n",
    "   v_{1}\\\\\n",
    "   v_{2}\n",
    "\\end{bmatrix}= -\\frac{l \\rho_0}{2}\n",
    "\\begin{bmatrix}\n",
    "   1\\\\\n",
    "   1\n",
    "\\end{bmatrix} +\n",
    "\\begin{bmatrix}\n",
    "   \\widetilde{D}_{1}\\\\\n",
    "   -\\widetilde{D}_{2}\n",
    "\\end{bmatrix}$$"
   ]
  },
  {
   "cell_type": "markdown",
   "metadata": {},
   "source": [
    "## Assembly of Elements"
   ]
  },
  {
   "cell_type": "markdown",
   "metadata": {},
   "source": [
    "At the beginning, let`s consider the case of two connected cells (finite elements, in 1D case they are segments). For each of them, we have a matrix equation, with $^{(1)}$ superscript for the first element and $^{(2)}$ for the second one. With the regular meshing, the length for all elements is the same, e.g. $l^{(1)}=l^{(2)}=l$"
   ]
  },
  {
   "cell_type": "markdown",
   "metadata": {},
   "source": [
    "$$\\frac{\\varepsilon^{(1)}}{l}\n",
    "\\begin{bmatrix}\n",
    "    1  &  -1\\\\\n",
    "   -1  &   1\n",
    "\\end{bmatrix}\n",
    "\\begin{bmatrix}\n",
    "v_{1}^{(1)}\\\\\n",
    "v_{2}^{(1)} \\end{bmatrix} = -\\frac{l \\rho_0}{2}\n",
    "\\begin{bmatrix}\n",
    "  1\\\\\n",
    "  1\n",
    "\\end{bmatrix} +\n",
    "\\begin{bmatrix}\n",
    "  \\widetilde{D}_1^{(1)} \\\\\n",
    "  -\\widetilde{D}_{2}^{(1)}\n",
    "\\end{bmatrix}$$"
   ]
  },
  {
   "cell_type": "markdown",
   "metadata": {},
   "source": [
    "$$\\frac{\\varepsilon^{(2)}}{l}\n",
    "\\begin{bmatrix}\n",
    "     1  &  -1\\\\\n",
    "    -1  &   1\n",
    "\\end{bmatrix}\n",
    "\\begin{bmatrix}\n",
    "   v_{1}^{(2)}\\\\\n",
    "   v_{2}^{(2)}\n",
    "\\end{bmatrix}= -\\frac{l \\rho_0}{2}\n",
    "\\begin{bmatrix}\n",
    "   1\\\\\n",
    "   1\n",
    "\\end{bmatrix}  +\n",
    "\\begin{bmatrix}\n",
    "   \\widetilde{D}_{1}^{(2)}\\\\\n",
    "   -\\widetilde{D}_{2}^{(2)}\n",
    "\\end{bmatrix}$$"
   ]
  },
  {
   "cell_type": "markdown",
   "metadata": {},
   "source": [
    "As soon as elements are connected, the potential has the same value at the point of the connection\n",
    "$$v_{2}^{(1)} = v_{1}^{(2)}$$"
   ]
  },
  {
   "cell_type": "markdown",
   "metadata": {},
   "source": [
    "We can introduce the global enumeration for the primary unknown quantity of potential, so let`s consider\n",
    "$$\\widetilde{V}_0 = v_{1}^{(1)}$$\n",
    "$$\\widetilde{V}_1 = v_{2}^{(1)} = v_{1}^{(2)}$$\n",
    "$$\\widetilde{V}_2 = v_{2}^{(2)}$$"
   ]
  },
  {
   "cell_type": "markdown",
   "metadata": {},
   "source": [
    "Now the equation systems for each element can be written in the equivalent form of\n",
    "\n",
    "$$\\frac{\\varepsilon^{(1)}}{l}\n",
    "\\begin{bmatrix}\n",
    "  1  &  -1 & 0\\\\\n",
    " -1  &   1 & 0\\\\\n",
    "  0  &   0 & 0\n",
    "\\end{bmatrix}\n",
    "\\begin{bmatrix}\n",
    " \\widetilde{V}_0\\\\\n",
    " \\widetilde{V}_1\\\\\n",
    " \\widetilde{V}_2\n",
    "\\end{bmatrix}\n",
    "= -\\frac{l \\rho_0}{2}\n",
    "\\begin{bmatrix}\n",
    " 1\\\\\n",
    " 1\\\\\n",
    " 0\\\\\n",
    "\\end{bmatrix} \n",
    "+\n",
    "\\begin{bmatrix}\n",
    "   \\widetilde{D}_{1}^{(1)}\\\\\n",
    "   -\\widetilde{D}_{2}^{(1)}\\\\\n",
    "   0\n",
    "\\end{bmatrix}$$"
   ]
  },
  {
   "cell_type": "markdown",
   "metadata": {},
   "source": [
    "$$\\frac{\\varepsilon^{(2)}}{l}\n",
    "\\begin{bmatrix}\n",
    "     0  &   0 &  0\\\\\n",
    "     0  &   1 & -1\\\\\n",
    "     0  &  -1 &  1\n",
    "\\end{bmatrix}\n",
    "\\begin{bmatrix}\n",
    "    \\widetilde{V}_0\\\\\n",
    "    \\widetilde{V}_1\\\\\n",
    "    \\widetilde{V}_2\n",
    "\\end{bmatrix}\n",
    "= -\\frac{l \\rho_0}{2}\n",
    "\\begin{bmatrix}\n",
    "    0\\\\\n",
    "    1\\\\\n",
    "    1\\\\\n",
    "\\end{bmatrix} \n",
    "+\n",
    "\\begin{bmatrix}\n",
    "    0\\\\\n",
    "    \\widetilde{D}_{1}^{(2)}\\\\\n",
    "    -\\widetilde{D}_{2}^{(2)}    \n",
    "\\end{bmatrix}$$"
   ]
  },
  {
   "cell_type": "markdown",
   "metadata": {},
   "source": [
    "As far as problem domain uses a homogeneous distribution of material parameter $\\varepsilon^{(1)} = \\varepsilon^{(2)} = \\varepsilon$ and we can simply add one equation system to another, and summarize the equations that correspond to the same row of the extended $K$ matrix."
   ]
  },
  {
   "cell_type": "markdown",
   "metadata": {},
   "source": [
    "$$\\frac{\\varepsilon}{l}\n",
    "\\begin{bmatrix}\n",
    "     1  &   -1 &  0\\\\\n",
    "     -1  &   2 & -1\\\\\n",
    "     0  &  -1 &  1\n",
    "\\end{bmatrix}\n",
    "\\begin{bmatrix}\n",
    "    \\widetilde{V}_0\\\\\n",
    "    \\widetilde{V}_1\\\\\n",
    "    \\widetilde{V}_2\n",
    "\\end{bmatrix}\n",
    "= -\\frac{l \\rho_0}{2}\n",
    "\\begin{bmatrix}\n",
    "    1\\\\\n",
    "    2\\\\\n",
    "    1\\\\\n",
    "\\end{bmatrix} \n",
    "+\n",
    "\\begin{bmatrix}\n",
    " \\widetilde{D}_{1}^{(1)}\\\\\n",
    "    -\\widetilde{D}_{2}^{(1)}+    \\widetilde{D}_{1}^{(2)}\\\\\n",
    "    -\\widetilde{D}_{2}^{(2)}    \n",
    "\\end{bmatrix}$$"
   ]
  },
  {
   "cell_type": "markdown",
   "metadata": {},
   "source": [
    "For homogeneous charge distribution $\\rho_0$ and small elements (so, the change of the potential is smooth enough in the neighbor cells) the difference $\\widetilde{D}_{1}^{(2)} -\\widetilde{D}_{2}^{(1)} \\simeq 0$"
   ]
  },
  {
   "cell_type": "markdown",
   "metadata": {},
   "source": [
    "$$\\frac{\\varepsilon}{l}\n",
    "\\begin{bmatrix}\n",
    "     1  &   -1 &  0\\\\\n",
    "     -1  &   2 & -1\\\\\n",
    "     0  &  -1 &  1\n",
    "\\end{bmatrix}\n",
    "\\begin{bmatrix}\n",
    "    \\widetilde{V}_0\\\\\n",
    "    \\widetilde{V}_1\\\\\n",
    "    \\widetilde{V}_2\n",
    "\\end{bmatrix}\n",
    "= -\\frac{l \\rho_0}{2}\n",
    "\\begin{bmatrix}\n",
    "    1\\\\\n",
    "    2\\\\\n",
    "    1\\\\\n",
    "\\end{bmatrix} \n",
    "+\n",
    "\\begin{bmatrix}\n",
    " \\widetilde{D}_{1}^{(1)}\\\\\n",
    "    0\\\\\n",
    "    -\\widetilde{D}_{2}^{(2)}    \n",
    "\\end{bmatrix}$$"
   ]
  },
  {
   "cell_type": "markdown",
   "metadata": {},
   "source": [
    "This form can easily be extended to any number of finite elements in the model, e.g. system from 4 elements:\n",
    "$$\\frac{\\varepsilon}{l}\n",
    "\\begin{bmatrix}\n",
    "     1  &   -1 &  0 & 0 & 0\\\\\n",
    "     -1  &   2 & -1 & 0 & 0\\\\\n",
    "      0 & -1  &   2 & -1 & 0\\\\\n",
    "      0 & 0 &-1  &   2 & -1\\\\\n",
    "       0 & 0 & 0  &  -1 &  1 \n",
    "\\end{bmatrix}\n",
    "\\begin{bmatrix}\n",
    "    \\widetilde{V}_0\\\\\n",
    "    \\widetilde{V}_1\\\\\n",
    "    \\widetilde{V}_2\\\\\n",
    "    \\widetilde{V}_3\\\\\n",
    "    \\widetilde{V}_4\n",
    "\\end{bmatrix}\n",
    "= -\\frac{l \\rho_0}{2}\n",
    "\\begin{bmatrix}\n",
    "    1\\\\\n",
    "    2\\\\\n",
    "    2\\\\\n",
    "    2\\\\\n",
    "    1\\\\\n",
    "\\end{bmatrix} \n",
    "+\n",
    "\\begin{bmatrix}\n",
    " \\widetilde{D}_{1}^{(1)}\\\\\n",
    "    0\\\\\n",
    "    0\\\\\n",
    "    0\\\\\n",
    "    -\\widetilde{D}_{2}^{(2)}    \n",
    "\\end{bmatrix}$$"
   ]
  },
  {
   "cell_type": "markdown",
   "metadata": {},
   "source": [
    "To apply Dirichlet boundary condition to the left boundary of the first element we can directly substitute it into the equation system. For $\\widetilde{V}_0 = V_0$ we remove the first equation (the first row) and move the first column of the $K$ matrix to the right "
   ]
  },
  {
   "cell_type": "markdown",
   "metadata": {},
   "source": [
    "$$\\frac{\\varepsilon}{l}\n",
    "\\begin{bmatrix}     \n",
    "      2 & -1 &   0 &  0\\\\\n",
    "    -1  &  2 &  -1 &  0\\\\\n",
    "      0 &-1  &   2 & -1\\\\\n",
    "      0 & 0  &  -1 &  1 \n",
    "\\end{bmatrix}\n",
    "\\begin{bmatrix}    \n",
    "    \\widetilde{V}_1\\\\\n",
    "    \\widetilde{V}_2\\\\\n",
    "    \\widetilde{V}_3\\\\\n",
    "    \\widetilde{V}_4\n",
    "\\end{bmatrix}\n",
    "= -\\frac{l \\rho_0}{2}\n",
    "\\begin{bmatrix}    \n",
    "    2\\\\\n",
    "    2\\\\\n",
    "    2\\\\\n",
    "    1\\\\\n",
    "\\end{bmatrix} \n",
    "+\n",
    "\\begin{bmatrix}\n",
    "    0\\\\\n",
    "    0\\\\\n",
    "    0\\\\\n",
    "    -\\widetilde{D}_{2}^{(2)}    \n",
    "\\end{bmatrix} -\n",
    "\\frac{\\varepsilon}{l}\n",
    "\\begin{bmatrix}     \n",
    "     -1  \\\\\n",
    "      0 \\\\\n",
    "      0 \\\\\n",
    "       0  \n",
    "\\end{bmatrix}\n",
    "V_0$$"
   ]
  },
  {
   "cell_type": "markdown",
   "metadata": {},
   "source": [
    "Same for the right boundary of the last element. For $\\widetilde{V}_4 = 0$ we remove the last equation (the bottom row) and remove the last column in $K$ matrix (it disappears after multiplication to zero value of the potential at the boundary). We also do not use $\\widetilde{D}$ vector anymore, as soon as it equals zero too."
   ]
  },
  {
   "cell_type": "markdown",
   "metadata": {},
   "source": [
    "$$\\frac{\\varepsilon}{l}\n",
    "\\begin{bmatrix}     \n",
    "      2 & -1 &   0 \\\\\n",
    "    -1  &  2 &  -1 \\\\\n",
    "      0 &-1  &   2 \\\\\n",
    "\\end{bmatrix}\n",
    "\\begin{bmatrix}    \n",
    "    \\widetilde{V}_1\\\\\n",
    "    \\widetilde{V}_2\\\\\n",
    "    \\widetilde{V}_3\\\\\n",
    "\\end{bmatrix}\n",
    "= -\\frac{l \\rho_0}{2}\n",
    "\\begin{bmatrix}    \n",
    "    2\\\\\n",
    "    2\\\\\n",
    "    2\\\\\n",
    "\\end{bmatrix} -\n",
    "\\frac{\\varepsilon}{l}\n",
    "\\begin{bmatrix}     \n",
    "     -1  \\\\\n",
    "      0 \\\\\n",
    "      0 \\\\   \n",
    "\\end{bmatrix}\n",
    "V_0$$"
   ]
  },
  {
   "cell_type": "markdown",
   "metadata": {},
   "source": [
    "Multiply $l/\\varepsilon$\n",
    "$$\\begin{bmatrix}     \n",
    "      2 & -1 &   0 \\\\\n",
    "    -1  &  2 &  -1 \\\\\n",
    "      0 &-1  &   2 \\\\\n",
    "\\end{bmatrix}\n",
    "\\begin{bmatrix}    \n",
    "    \\widetilde{V}_1\\\\\n",
    "    \\widetilde{V}_2\\\\\n",
    "    \\widetilde{V}_3\\\\\n",
    "\\end{bmatrix}\n",
    "= -\\frac{l^2 \\rho_0}{\\varepsilon}\n",
    "\\begin{bmatrix}    \n",
    "    1\\\\\n",
    "    1\\\\\n",
    "    1\\\\\n",
    "\\end{bmatrix} -\n",
    "\\begin{bmatrix}     \n",
    "     -1  \\\\\n",
    "      0 \\\\\n",
    "      0 \\\\   \n",
    "\\end{bmatrix}\n",
    "V_0$$"
   ]
  },
  {
   "cell_type": "markdown",
   "metadata": {},
   "source": [
    "# FEM implementation"
   ]
  },
  {
   "cell_type": "code",
   "execution_count": 11,
   "metadata": {
    "collapsed": false,
    "jupyter": {
     "outputs_hidden": false
    }
   },
   "outputs": [
    {
     "name": "stdout",
     "output_type": "stream",
     "text": [
      "[[ 2. -1.  0.]\n",
      " [-1.  2. -1.]\n",
      " [ 0. -1.  2.]]\n",
      "[ 1.          0.07235456 -0.40352725 -0.42764544  0.        ]\n"
     ]
    },
    {
     "data": {
      "image/png": "[encoded data removed]",
      "text/plain": [
       "<matplotlib.figure.Figure at 0x7f1b597b27f0>"
      ]
     },
     "metadata": {},
     "output_type": "display_data"
    }
   ],
   "source": [
    "# Set the model\n",
    "eps_0 = 8.8541878176*10e-12 #F/m\n",
    "eps_r = 1.0\n",
    "eps = eps_0*eps_r\n",
    "rho_0 = 10e-8 # C/m**3\n",
    "V_0 = 1.0 #Volt\n",
    "\n",
    "d = 0.08 #m\n",
    "number_of_elements = 4\n",
    "\n",
    "l=d/number_of_elements\n",
    "\n",
    "# After elimination of the equation system using \n",
    "# Dirichlet boundary condition we have less equations...\n",
    "K = np.zeros((number_of_elements-1,\n",
    "              number_of_elements-1))\n",
    "for i in range(number_of_elements-1):\n",
    "    for j in range(number_of_elements-1):\n",
    "        if i == j: K[i,j]=2\n",
    "        if abs(i-j) == 1:\n",
    "            K[i,j] = -1\n",
    "print(K)\n",
    "\n",
    "# Still we need all values of the potential\n",
    "V = np.zeros(number_of_elements + 1)\n",
    "V[0] = V_0\n",
    "\n",
    "# Set the right-hand side\n",
    "f = np.ones(number_of_elements-1)*(-(l**2)*rho_0)/(eps)\n",
    "f[0] += V_0\n",
    "\n",
    "# Solve the system\n",
    "V[1:-1] = np.linalg.solve(K,f)\n",
    "print(V)\n",
    "\n",
    "#Plot it with analytic solution.\n",
    "x_fem = np.linspace(0.0, d, num=number_of_elements+1)\n",
    "evaluate = (V_0 + rho_0*x**2/(2*varepsilon_0*varepsilon_r)\n",
    "            + x*(-V_0/d - d*rho_0/(2*varepsilon_0*varepsilon_r)))\n",
    "x_vec = np.linspace(0.0, d, num=number_of_elements*10+1)\n",
    "y_vec = np.array([ evaluate.subs({x:value}) for value in x_vec]) \n",
    "fig, ax = plt.subplots()\n",
    "ax.plot(x_vec, y_vec, x_fem,V);\n",
    "ax.set_xlim(0,0.08);"
   ]
  },
  {
   "cell_type": "code",
   "execution_count": 12,
   "metadata": {
    "collapsed": false,
    "jupyter": {
     "outputs_hidden": false
    }
   },
   "outputs": [
    {
     "data": {
      "image/png": "[encoded data removed]",
      "text/plain": [
       "<matplotlib.figure.Figure at 0x7f1b700ea3c8>"
      ]
     },
     "metadata": {},
     "output_type": "display_data"
    }
   ],
   "source": [
    "#Error\n",
    "x_vec = np.linspace(0.0, d, num=number_of_elements+1)\n",
    "y_vec = np.array([ evaluate.subs({x:value}) for value in x_vec]) \n",
    "fig, ax = plt.subplots()\n",
    "ax.plot(x_vec, (y_vec-V));\n",
    "ax.set_xlim(0,0.08);"
   ]
  },
  {
   "cell_type": "code",
   "execution_count": 13,
   "metadata": {
    "collapsed": false,
    "jupyter": {
     "outputs_hidden": false
    }
   },
   "outputs": [
    {
     "data": {
      "application/javascript": [
       "$.getScript('https://kmahelona.github.io/ipython_notebook_goodies/ipython_notebook_toc.js')"
      ],
      "text/plain": [
       "<IPython.core.display.Javascript object>"
      ]
     },
     "metadata": {},
     "output_type": "display_data"
    }
   ],
   "source": [
    "%%javascript\n",
    "$.getScript('https://kmahelona.github.io/ipython_notebook_goodies/ipython_notebook_toc.js')"
   ]
  }
 ],
 "metadata": {
  "kernelspec": {
   "display_name": "Python 3 (ipykernel)",
   "language": "python",
   "name": "python3"
  },
  "language_info": {
   "codemirror_mode": {
    "name": "ipython",
    "version": 3
   },
   "file_extension": ".py",
   "mimetype": "text/x-python",
   "name": "python",
   "nbconvert_exporter": "python",
   "pygments_lexer": "ipython3",
   "version": "3.11.7"
  }
 },
 "nbformat": 4,
 "nbformat_minor": 4
}
